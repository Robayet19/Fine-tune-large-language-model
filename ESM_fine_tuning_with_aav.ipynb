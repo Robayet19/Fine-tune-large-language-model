{
 "cells": [
  {
   "cell_type": "markdown",
   "metadata": {},
   "source": [
    "# Install packages if necessary"
   ]
  },
  {
   "cell_type": "code",
   "execution_count": null,
   "metadata": {},
   "outputs": [],
   "source": [
    "# %pip install git+https://github.com/huggingface/transformers\n",
    "# %pip install fair-esm\n",
    "# %pip install datasets\n",
    "# %pip install accelerate -U\n",
    "# %pip install absl-py\n",
    "# %pip install -U scikit-learn pandas matplotlib seaborn transformers tensorflow evaluate ipywidgets git-lfs\n",
    "# %pip install torch torchvision torchaudio wandb pytorch_lightning\n",
    "# source of esm : https://pypi.org/project/fair-esm/"
   ]
  },
  {
   "cell_type": "markdown",
   "metadata": {},
   "source": [
    "# Import modules"
   ]
  },
  {
   "cell_type": "code",
   "execution_count": null,
   "metadata": {},
   "outputs": [],
   "source": [
    "import numpy as np\n",
    "import socket\n",
    "import shutil\n",
    "from absl import logging\n",
    "from sklearn.model_selection import train_test_split\n",
    "from sklearn.metrics import RocCurveDisplay,roc_curve, roc_auc_score, auc, precision_recall_curve,f1_score,PrecisionRecallDisplay\n",
    "import sys\n",
    "import os\n",
    "import pandas as pd\n",
    "import functools\n",
    "import matplotlib.pyplot as plt\n",
    "import seaborn as sns\n",
    "import tensorflow as tf\n",
    "import torch \n",
    "from transformers import AutoTokenizer\n",
    "from datasets import Dataset\n",
    "from huggingface_hub import notebook_login\n",
    "import wandb\n",
    "from pytorch_lightning.loggers import WandbLogger\n",
    "print(f\"pytorch version: {torch.__version__}\")\n",
    "print(f\"Python version: {sys.version}\")\n",
    "print(f\"Executable path: {sys.executable}\")\n",
    "print(f\"Hostname: {socket.gethostname}\")\n",
    "print(f\"current working directory: {os.getcwd()}\")\n"
   ]
  },
  {
   "cell_type": "markdown",
   "metadata": {},
   "source": [
    "## Fine tune a pre-trained model"
   ]
  },
  {
   "cell_type": "code",
   "execution_count": null,
   "metadata": {},
   "outputs": [],
   "source": [
    "#wandb.login()\n",
    "wandb_logger = WandbLogger()"
   ]
  },
  {
   "cell_type": "code",
   "execution_count": null,
   "metadata": {},
   "outputs": [],
   "source": [
    "#notebook_login()"
   ]
  },
  {
   "cell_type": "markdown",
   "metadata": {},
   "source": [
    "### Examples"
   ]
  },
  {
   "cell_type": "code",
   "execution_count": null,
   "metadata": {},
   "outputs": [],
   "source": [
    "### PyTorch : https://colab.research.google.com/github/huggingface/notebooks/blob/main/examples/protein_language_modeling.ipynb\n",
    "## source on how to fine tune a pre-trained model using huggingface: https://huggingface.co/docs/transformers/training\n",
    "\n",
    "### Tensorflow: https://colab.research.google.com/github/huggingface/notebooks/blob/main/examples/protein_language_modeling-tf.ipynb"
   ]
  },
  {
   "cell_type": "code",
   "execution_count": null,
   "metadata": {},
   "outputs": [],
   "source": [
    "model_checkpoint = \"facebook/esm2_t12_35M_UR50D\"\n",
    "#model_checkpoint =\"facebook/esm2_t33_650M_UR50D\""
   ]
  },
  {
   "cell_type": "markdown",
   "metadata": {},
   "source": [
    "### Sequence classification"
   ]
  },
  {
   "cell_type": "markdown",
   "metadata": {},
   "source": [
    "### Data preparation"
   ]
  },
  {
   "cell_type": "code",
   "execution_count": null,
   "metadata": {},
   "outputs": [],
   "source": [
    "def process_df(df):\n",
    "    \"\"\"This function takes a dataframe and returns two seperate lists of sequences and labels\"\"\"\n",
    "    \n",
    "    df = df[['sequence','is_viable']] # only keep the sequences and labels\n",
    "    df.loc[:,'sequence'] = df['sequence'].apply(lambda x: x.upper()) # convert to upper case\n",
    "    ## convert to string type .\n",
    "    # ## Otherwise, it gives an error during tokenization \"ValueError: text input must of type `str` (single example), `List[str]` (batch or single pretokenized example) or `List[List[str]]` (batch of pretokenized examples).\n",
    "    sequences = df['sequence'].apply(lambda x: str(x))\n",
    "    sequences = sequences.tolist()\n",
    "    labels = df['is_viable']\n",
    "    labels = labels.apply(lambda x: 1 if x==True else 0) # convert to binary numbers (0 and 1)\n",
    "    labels = labels.tolist() # convert data type to list \n",
    "    \n",
    "    return sequences, labels"
   ]
  },
  {
   "cell_type": "code",
   "execution_count": null,
   "metadata": {},
   "outputs": [],
   "source": [
    "def tokenize_add_label(sequences, labels, tokenizer):\n",
    "    \"\"\"This function takes sequences and labels creates a Dataset containing tokenized sequences and add labels to it\n",
    "       \n",
    "       args:\n",
    "           sequences (str): a list of sequences\n",
    "           labels (int): a list of labels\n",
    "           tokenizer : a pre-trained tokenizer\n",
    "        \n",
    "       return: \n",
    "            Dataset: tokenized sequences and associated labels)\"\"\"\n",
    "    sequences_tokenized = tokenizer(sequences,padding=True,truncation=True)\n",
    "    sequences_dataset = Dataset.from_dict(sequences_tokenized)\n",
    "    sequences_dataset = sequences_dataset.add_column(\"labels\", labels)\n",
    "\n",
    "    return sequences_dataset"
   ]
  },
  {
   "cell_type": "code",
   "execution_count": null,
   "metadata": {},
   "outputs": [],
   "source": [
    "#df = pd.read_csv('allseqs_20191230.csv')\n",
    "df = pd.read_csv('c1r2_seq.csv')\n",
    "# df = df.iloc[0:50,:]\n",
    "df.head()"
   ]
  },
  {
   "cell_type": "code",
   "execution_count": null,
   "metadata": {},
   "outputs": [],
   "source": [
    "sequences, labels = process_df(df)"
   ]
  },
  {
   "cell_type": "markdown",
   "metadata": {},
   "source": [
    "## Split the data into train,test, and validation sets"
   ]
  },
  {
   "cell_type": "code",
   "execution_count": null,
   "metadata": {},
   "outputs": [],
   "source": [
    "train_sequences, test_valid_sequences, train_labels, test_valid_labels = train_test_split(sequences, labels, test_size=0.20, shuffle=True)\n",
    "\n",
    "test_sequences,valid_sequences, test_labels,valid_labels = train_test_split(test_valid_sequences,test_valid_labels,test_size=0.4,shuffle=True)\n"
   ]
  },
  {
   "cell_type": "code",
   "execution_count": null,
   "metadata": {},
   "outputs": [],
   "source": [
    "print(f\" number of sequences in the train set: {len(train_sequences)} | with number of labels = {len(train_labels)} \")\n",
    "print(f\" number of sequences in the validation set: {len(valid_sequences)} | with number of labels = {len(valid_labels)} \")"
   ]
  },
  {
   "cell_type": "markdown",
   "metadata": {},
   "source": [
    "## Tokenize the data"
   ]
  },
  {
   "cell_type": "code",
   "execution_count": null,
   "metadata": {},
   "outputs": [],
   "source": [
    "tokenizer = AutoTokenizer.from_pretrained(model_checkpoint)"
   ]
  },
  {
   "cell_type": "code",
   "execution_count": null,
   "metadata": {},
   "outputs": [],
   "source": [
    "tokenizer(train_sequences[0:10])"
   ]
  },
  {
   "cell_type": "code",
   "execution_count": null,
   "metadata": {},
   "outputs": [],
   "source": [
    "train_dataset = tokenize_add_label(train_sequences, train_labels, tokenizer)\n",
    "test_dataset = tokenize_add_label(test_sequences, test_labels, tokenizer)\n",
    "valid_dataset = tokenize_add_label(valid_sequences, valid_labels, tokenizer)\n",
    "train_dataset"
   ]
  },
  {
   "cell_type": "markdown",
   "metadata": {},
   "source": [
    "# Load model"
   ]
  },
  {
   "cell_type": "code",
   "execution_count": null,
   "metadata": {},
   "outputs": [],
   "source": [
    "from transformers import AutoModelForSequenceClassification, TrainingArguments, Trainer\n",
    "\n",
    "num_labels = max(train_labels + valid_labels) +1  # Add 1 since 0 can be a label\n",
    "print(f\"number of classes or labels = {num_labels}\")\n",
    "model = AutoModelForSequenceClassification.from_pretrained(model_checkpoint, num_labels=num_labels) # load the pre-trained model"
   ]
  },
  {
   "cell_type": "code",
   "execution_count": null,
   "metadata": {},
   "outputs": [],
   "source": [
    "model.get_output_embeddings"
   ]
  },
  {
   "cell_type": "code",
   "execution_count": null,
   "metadata": {},
   "outputs": [],
   "source": [
    "# model_name = model_checkpoint.split(\"/\")[-1]\n",
    "# batch_size = 5\n",
    "# args = TrainingArguments(\n",
    "#     f\"{model_name}-finetuned-model_esm-2_on_aav\",\n",
    "#     evaluation_strategy = \"steps\",#save_strategy = \"steps\",\n",
    "#     learning_rate=2e-5,\n",
    "#     per_device_train_batch_size=batch_size,\n",
    "#     per_device_eval_batch_size=batch_size,\n",
    "#     num_train_epochs=3,\n",
    "#     weight_decay=0.01,\n",
    "#     load_best_model_at_end=True,\n",
    "#     metric_for_best_model=\"accuracy\",\n",
    "#     push_to_hub=False,report_to=\"wandb\") # Turn the push_to_hub=True if you load the model after trainging to the hub "
   ]
  },
  {
   "cell_type": "code",
   "execution_count": null,
   "metadata": {},
   "outputs": [],
   "source": [
    "model_name = model_checkpoint.split(\"/\")[-1]\n",
    "trainer_dir = f\"{model_name}-finetuned-model_esm-2_on_clr2-aav\"\n",
    "batch_size = 5\n",
    "args = TrainingArguments(\n",
    "    output_dir=trainer_dir,\n",
    "    overwrite_output_dir = True,\n",
    "    evaluation_strategy = \"steps\",#save_strategy = \"steps\",\n",
    "    learning_rate=2e-5,\n",
    "    logging_steps=100,\n",
    "    eval_steps=5000,\n",
    "    save_steps=10000,\n",
    "    per_device_train_batch_size=batch_size,\n",
    "    per_device_eval_batch_size=batch_size,\n",
    "    num_train_epochs=3,\n",
    "    weight_decay=0.01,\n",
    "    load_best_model_at_end=True,\n",
    "    metric_for_best_model=\"accuracy\",\n",
    "    push_to_hub=False,report_to=\"wandb\") # Turn the push_to_hub=True if you load the model after trainging to the hub "
   ]
  },
  {
   "cell_type": "code",
   "execution_count": null,
   "metadata": {},
   "outputs": [],
   "source": [
    "# wandb.init(project=\"esm_1b_finetune_with_aav\",\n",
    "#            config={\n",
    "#                \"batch_size\": 10,\n",
    "#                \"learning_rate\": 2e-5,\n",
    "#            })"
   ]
  },
  {
   "cell_type": "code",
   "execution_count": null,
   "metadata": {},
   "outputs": [],
   "source": [
    "from evaluate import load\n",
    "\n",
    "metric = load(\"accuracy\")\n",
    "\n",
    "def compute_metrics(eval_pred):\n",
    "    predictions, labels = eval_pred\n",
    "    # labels = labels.unsqueeze(1)\n",
    "    # predictions = predictions.unsqueeze(1)\n",
    "    predictions = np.argmax(predictions, axis=1)\n",
    "    return metric.compute(predictions=predictions, references=labels)\n"
   ]
  },
  {
   "cell_type": "code",
   "execution_count": null,
   "metadata": {},
   "outputs": [],
   "source": [
    "wandb_logger = WandbLogger(project=\"esm-2_finetuning_aav\",\n",
    "                           log_model='all')"
   ]
  },
  {
   "cell_type": "code",
   "execution_count": null,
   "metadata": {},
   "outputs": [],
   "source": [
    "# run = wandb.init(project=\"esm-2-finetuning_aav\",\n",
    "#                  config={\"batch_size\": 10,\n",
    "#                          \"learning_rate\": 2e-5,\n",
    "#                          \"dataset\": \"clr2\"})"
   ]
  },
  {
   "cell_type": "code",
   "execution_count": null,
   "metadata": {},
   "outputs": [],
   "source": [
    "trainer = Trainer(\n",
    "    model,\n",
    "    args,\n",
    "    train_dataset=train_dataset,\n",
    "    eval_dataset=valid_dataset,\n",
    "    tokenizer=tokenizer,\n",
    "    compute_metrics=compute_metrics,\n",
    ")"
   ]
  },
  {
   "attachments": {},
   "cell_type": "markdown",
   "metadata": {},
   "source": [
    "# run the model in GPU"
   ]
  },
  {
   "cell_type": "code",
   "execution_count": null,
   "metadata": {},
   "outputs": [],
   "source": [
    "print(f\"PyTorch version: {torch.__version__}\")\n",
    "# Check PyTorch has access to MPS (Metal Performance Shader, Apple's GPU architecture)\n",
    "print(f\"Is MPS (Metal Performance Shader) built? {torch.backends.mps.is_built()}\")\n",
    "print(f\"Is MPS available? {torch.backends.mps.is_available()}\")\n",
    "\n",
    "# Set the device to GPU (mps)\n",
    "device = \"mps\" if torch.backends.mps.is_available() else \"cpu\"\n",
    "device = torch.device(device)\n",
    "print(f\"Using device: {device}\")"
   ]
  },
  {
   "cell_type": "code",
   "execution_count": null,
   "metadata": {},
   "outputs": [],
   "source": [
    "# set the model to GPU : device=\"mps\"\n",
    "model.to(device)"
   ]
  },
  {
   "cell_type": "code",
   "execution_count": null,
   "metadata": {},
   "outputs": [],
   "source": [
    "model.config.problem_type"
   ]
  },
  {
   "cell_type": "code",
   "execution_count": null,
   "metadata": {},
   "outputs": [],
   "source": [
    "\n",
    "trainer.train()"
   ]
  },
  {
   "cell_type": "code",
   "execution_count": null,
   "metadata": {},
   "outputs": [],
   "source": [
    "trainer.state.log_history"
   ]
  },
  {
   "cell_type": "code",
   "execution_count": null,
   "metadata": {},
   "outputs": [],
   "source": [
    "# run.finish()\n",
    "wandb.finish()"
   ]
  },
  {
   "cell_type": "code",
   "execution_count": null,
   "metadata": {},
   "outputs": [],
   "source": [
    "# trainer.evaluate(test_dataset)"
   ]
  },
  {
   "cell_type": "markdown",
   "metadata": {},
   "source": [
    "# Perform prediction on test data to check the performance"
   ]
  },
  {
   "cell_type": "code",
   "execution_count": null,
   "metadata": {},
   "outputs": [],
   "source": [
    "def trainer_predict(dataset,trainer):\n",
    "    \"\"\"This function takes a dataset (tokenized sequences and labels) and a trained model (Trainer module from huggingface)\n",
    "    and returns a list of predicted labels\n",
    "    \n",
    "    args:\n",
    "        dataset (tokenized data): sequences and labels\n",
    "        trainer (Trainer class): Trainer with filled args\n",
    "    return:\n",
    "        true labels (int): actual labels\n",
    "        predicted_labels(int): inferred labels by the Trainer \"\"\"\n",
    "    \n",
    "    print(f\"currently performing predictions of labels on a dataset of {len(dataset)} sequences\")\n",
    "    predicted_results = trainer.predict(dataset)\n",
    "    predicted_labels = np.argmax(predicted_results.predictions,axis=-1).tolist()\n",
    "    true_labels = predicted_results.label_ids\n",
    "    true_labels = true_labels.tolist()\n",
    "    \n",
    "    scores = predicted_results.predictions\n",
    "    \n",
    "    return true_labels, predicted_labels, scores\n"
   ]
  },
  {
   "cell_type": "markdown",
   "metadata": {},
   "source": [
    "## create a roc curve"
   ]
  },
  {
   "cell_type": "code",
   "execution_count": null,
   "metadata": {},
   "outputs": [],
   "source": [
    "def create_roc_curve(true_labels,predicted_labels,scores,filename=None):\n",
    "    \"\"\"This function takes true and predicted labels, scores, and creates a roc curve\"\"\"\n",
    "    \n",
    "    # convert list to array data type\n",
    "    if not isinstance(scores, np.ndarray):\n",
    "        scores = np.array(scores)\n",
    "\n",
    "    fig = plt.figure()\n",
    "    # from sklearn.metrics import RocCurveDisplay\n",
    "    from sklearn.metrics import roc_curve, roc_auc_score, auc\n",
    "    fpr,tpr,threshold = roc_curve(true_labels, scores[::,1]) # input the positive scores (label:1) only as it is required for roc_curve (ref: https://scikit-learn.org/stable/modules/generated/sklearn.metrics.roc_curve.html)\n",
    "    AUC = auc(fpr,tpr)\n",
    "    roc_display = RocCurveDisplay(fpr=fpr,tpr=tpr, roc_auc=AUC, estimator_name='Binary classifier').plot()\n",
    "    roc_display.figure_.set_size_inches(5,5)\n",
    "    plt.plot([0,1], [0,1], 'k--',)\n",
    "    if filename is not None:\n",
    "        save_file = f\"roc_fine_tuned_{filename}.png\"\n",
    "        plt.savefig(save_file,dpi=300)\n",
    "    plt.show()"
   ]
  },
  {
   "cell_type": "code",
   "execution_count": 357,
   "metadata": {},
   "outputs": [],
   "source": [
    "def plot_precision_recall_curve(true_labels,predicted_labels,scores,filename=None,display=1):\n",
    "    \"\"\"This function takes true and predicted labels, scores, and creates a precision-recall curve.\n",
    "\n",
    "       Note, if there is a significant class imbalance in the dataset, it is recommended to use the precison-recall curve rather than ROC curve\n",
    "       to evaluate model's performance.\n",
    "       ref: https://machinelearningmastery.com/roc-curves-and-precision-recall-curves-for-classification-in-python/\n",
    "            https://www.ncbi.nlm.nih.gov/pmc/articles/PMC4349800/\n",
    "    \"\"\"\n",
    "    \n",
    "\n",
    "     # convert list to array data type\n",
    "    if not isinstance(scores, np.ndarray):\n",
    "        scores = np.array(scores)\n",
    "        \n",
    "    fig = plt.figure()\n",
    "    # from sklearn.metrics import RocCurveDisplay\n",
    "    from sklearn.metrics import roc_curve, roc_auc_score, auc, precision_recall_curve,f1_score,PrecisionRecallDisplay\n",
    "    precision,recall,_ = precision_recall_curve(predicted_labels, scores[::,1]) # input the positive scores (label:1) only as it is required for roc_curve (ref: https://scikit-learn.org/stable/modules/generated/sklearn.metrics.precision_recall_curve.html)\n",
    "    f1,AUC = f1_score(true_labels,predicted_labels),auc(recall,precision)\n",
    "    # plot the curve (https://scikit-learn.org/stable/auto_examples/model_selection/plot_precision_recall.html#:~:text=The%20precision%2Drecall%20curve%20shows,a%20low%20false%20negative%20rate.)\n",
    "\n",
    "    if display == 0:\n",
    "        disp = PrecisionRecallDisplay(precision=precision, recall=recall,plot_chance_level=True)# ref (https://scikit-learn.org/stable/modules/generated/sklearn.metrics.PrecisionRecallDisplay.html)\n",
    "        disp.plot()\n",
    "    elif display==1:   \n",
    "        disp = PrecisionRecallDisplay.from_predictions(predicted_labels, scores[::,1], name=\"Binary Classifier\", plot_chance_level=True) #ref: (https://scikit-learn.org/stable/modules/generated/sklearn.metrics.PrecisionRecallDisplay.html)\n",
    "        _ = disp.ax_.set_title(\"Binary-class Precision-Recall curve\")\n",
    "    else:\n",
    "        ## plot the no skill precision-recall curve\n",
    "        # calculate the no skill line as the proportion of the positive class\n",
    "        true_labels = np.array(true_labels)\n",
    "        no_skill = len(true_labels[true_labels==1]) / len(true_labels)\n",
    "        plt.plot([0, 1], [no_skill, no_skill], linestyle='--', label='No Skill')\n",
    "        plt.plot(recall, precision, marker='.', label='Binary Classifier')\n",
    "        plt.xlabel('Recall')\n",
    "        plt.ylabel('Precision')\n",
    "        plt.legend()\n",
    "\n",
    "    if filename is not None:\n",
    "        save_file = f\"precision_recall_curve_fine_tuned_{filename}.png\"\n",
    "        plt.savefig(save_file,dpi=300)\n",
    "    plt.show()"
   ]
  },
  {
   "cell_type": "code",
   "execution_count": 349,
   "metadata": {},
   "outputs": [
    {
     "name": "stdout",
     "output_type": "stream",
     "text": [
      "currently performing predictions of labels on a dataset of 3004 sequences\n"
     ]
    }
   ],
   "source": [
    "true_labels, predicted_labels,scores = trainer_predict(test_dataset,trainer)"
   ]
  },
  {
   "cell_type": "code",
   "execution_count": 380,
   "metadata": {},
   "outputs": [
    {
     "data": {
      "text/plain": [
       "<Figure size 640x480 with 0 Axes>"
      ]
     },
     "metadata": {},
     "output_type": "display_data"
    },
    {
     "data": {
      "image/png": "[encoded data removed]",
      "text/plain": [
       "<Figure size 640x480 with 1 Axes>"
      ]
     },
     "metadata": {},
     "output_type": "display_data"
    },
    {
     "data": {
      "text/plain": [
       "<Figure size 640x480 with 0 Axes>"
      ]
     },
     "metadata": {},
     "output_type": "display_data"
    },
    {
     "data": {
      "image/png": "[encoded data removed]",
      "text/plain": [
       "<Figure size 640x480 with 1 Axes>"
      ]
     },
     "metadata": {},
     "output_type": "display_data"
    }
   ],
   "source": [
    "file_save = f\"esm-2_on_clr2_{len(true_labels)}_test_seq_data\"\n",
    "create_roc_curve_label(true_labels, predicted_labels,scores,file_save)\n",
    "plot_precision_recall_curve(true_labels, predicted_labels,scores,file_save)\n"
   ]
  },
  {
   "cell_type": "markdown",
   "metadata": {},
   "source": [
    "# Test model's performance on a different dataset"
   ]
  },
  {
   "cell_type": "code",
   "execution_count": 359,
   "metadata": {},
   "outputs": [
    {
     "data": {
      "text/html": [
       "<div>\n",
       "<style scoped>\n",
       "    .dataframe tbody tr th:only-of-type {\n",
       "        vertical-align: middle;\n",
       "    }\n",
       "\n",
       "    .dataframe tbody tr th {\n",
       "        vertical-align: top;\n",
       "    }\n",
       "\n",
       "    .dataframe thead th {\n",
       "        text-align: right;\n",
       "    }\n",
       "</style>\n",
       "<table border=\"1\" class=\"dataframe\">\n",
       "  <thead>\n",
       "    <tr style=\"text-align: right;\">\n",
       "      <th></th>\n",
       "      <th>sequence</th>\n",
       "      <th>partition</th>\n",
       "      <th>mutation_sequence</th>\n",
       "      <th>num_mutations</th>\n",
       "      <th>num_edits</th>\n",
       "      <th>viral_selection</th>\n",
       "      <th>is_viable</th>\n",
       "    </tr>\n",
       "  </thead>\n",
       "  <tbody>\n",
       "    <tr>\n",
       "      <th>5</th>\n",
       "      <td>ADEEIRTTNPVATEQYGSVSTNPvQRGNR</td>\n",
       "      <td>designed</td>\n",
       "      <td>AD____________________Pv_____</td>\n",
       "      <td>4</td>\n",
       "      <td>4</td>\n",
       "      <td>-1.815227</td>\n",
       "      <td>False</td>\n",
       "    </tr>\n",
       "    <tr>\n",
       "      <th>13</th>\n",
       "      <td>ADMEIIQVNPYSSEQYGDCATPLYHGTG</td>\n",
       "      <td>designed</td>\n",
       "      <td>ADM__IQV__YSS____DCA_P_YH_TG</td>\n",
       "      <td>17</td>\n",
       "      <td>17</td>\n",
       "      <td>-5.116514</td>\n",
       "      <td>False</td>\n",
       "    </tr>\n",
       "    <tr>\n",
       "      <th>47</th>\n",
       "      <td>ADTIIVTTNTVATEIYGCVgAeMNLQPLIP</td>\n",
       "      <td>designed</td>\n",
       "      <td>ADTI_V___T____I__C_gAeM___PLIP</td>\n",
       "      <td>16</td>\n",
       "      <td>16</td>\n",
       "      <td>-4.156943</td>\n",
       "      <td>False</td>\n",
       "    </tr>\n",
       "    <tr>\n",
       "      <th>71</th>\n",
       "      <td>AEAEITATNCCSTECYGNVdDsEgPpGvDcDmEdDlF</td>\n",
       "      <td>designed</td>\n",
       "      <td>A_A__TA__CCS__C__N_dDsEgPpGvDcDmEdDlF</td>\n",
       "      <td>27</td>\n",
       "      <td>26</td>\n",
       "      <td>-5.839737</td>\n",
       "      <td>False</td>\n",
       "    </tr>\n",
       "    <tr>\n",
       "      <th>73</th>\n",
       "      <td>AEAEITTTNPVSTEQYGSVSTNLQVGNR</td>\n",
       "      <td>designed</td>\n",
       "      <td>A_A__T_____S____________V___</td>\n",
       "      <td>5</td>\n",
       "      <td>5</td>\n",
       "      <td>1.015606</td>\n",
       "      <td>True</td>\n",
       "    </tr>\n",
       "    <tr>\n",
       "      <th>...</th>\n",
       "      <td>...</td>\n",
       "      <td>...</td>\n",
       "      <td>...</td>\n",
       "      <td>...</td>\n",
       "      <td>...</td>\n",
       "      <td>...</td>\n",
       "      <td>...</td>\n",
       "    </tr>\n",
       "    <tr>\n",
       "      <th>296819</th>\n",
       "      <td>YlEEEIRTTNPVATEQYGSVSDmNLsQRGNaN</td>\n",
       "      <td>lr_rand_doubles_plus_single_seed</td>\n",
       "      <td>Yl___________________Dm__s____aN</td>\n",
       "      <td>7</td>\n",
       "      <td>7</td>\n",
       "      <td>-5.501083</td>\n",
       "      <td>False</td>\n",
       "    </tr>\n",
       "    <tr>\n",
       "      <th>296855</th>\n",
       "      <td>YnEkEEdIwFTNtNDVAIEIYGHVmSIgNLlQQGNRf</td>\n",
       "      <td>lr_designed_plus_rand_train_seed</td>\n",
       "      <td>Yn_k__d_wF_Nt_D__I_I__H_m_Ig__l_Q___f</td>\n",
       "      <td>18</td>\n",
       "      <td>18</td>\n",
       "      <td>-7.129635</td>\n",
       "      <td>False</td>\n",
       "    </tr>\n",
       "    <tr>\n",
       "      <th>296919</th>\n",
       "      <td>YvETEIGTnTNNCAiTEcQIiGTVcVaLaIQeEvRpTQeEe</td>\n",
       "      <td>cnn_rand_doubles_plus_single_walked</td>\n",
       "      <td>Yv_T__G_n__NC_i__c_Ii_T_cVaLaIQeEv_pTQeEe</td>\n",
       "      <td>28</td>\n",
       "      <td>26</td>\n",
       "      <td>-4.691514</td>\n",
       "      <td>False</td>\n",
       "    </tr>\n",
       "    <tr>\n",
       "      <th>296956</th>\n",
       "      <td>nDEEEIRTTNPVATEQYGSVSTNLQRGNR</td>\n",
       "      <td>singles</td>\n",
       "      <td>n____________________________</td>\n",
       "      <td>1</td>\n",
       "      <td>1</td>\n",
       "      <td>-4.848826</td>\n",
       "      <td>False</td>\n",
       "    </tr>\n",
       "    <tr>\n",
       "      <th>296964</th>\n",
       "      <td>vDEEEIRTTNPVATEQYGSVSTNLQRGNR</td>\n",
       "      <td>singles</td>\n",
       "      <td>v____________________________</td>\n",
       "      <td>1</td>\n",
       "      <td>1</td>\n",
       "      <td>-5.185835</td>\n",
       "      <td>False</td>\n",
       "    </tr>\n",
       "  </tbody>\n",
       "</table>\n",
       "<p>10000 rows × 7 columns</p>\n",
       "</div>"
      ],
      "text/plain": [
       "                                         sequence  \\\n",
       "5                   ADEEIRTTNPVATEQYGSVSTNPvQRGNR   \n",
       "13                   ADMEIIQVNPYSSEQYGDCATPLYHGTG   \n",
       "47                 ADTIIVTTNTVATEIYGCVgAeMNLQPLIP   \n",
       "71          AEAEITATNCCSTECYGNVdDsEgPpGvDcDmEdDlF   \n",
       "73                   AEAEITTTNPVSTEQYGSVSTNLQVGNR   \n",
       "...                                           ...   \n",
       "296819           YlEEEIRTTNPVATEQYGSVSDmNLsQRGNaN   \n",
       "296855      YnEkEEdIwFTNtNDVAIEIYGHVmSIgNLlQQGNRf   \n",
       "296919  YvETEIGTnTNNCAiTEcQIiGTVcVaLaIQeEvRpTQeEe   \n",
       "296956              nDEEEIRTTNPVATEQYGSVSTNLQRGNR   \n",
       "296964              vDEEEIRTTNPVATEQYGSVSTNLQRGNR   \n",
       "\n",
       "                                  partition  \\\n",
       "5                                  designed   \n",
       "13                                 designed   \n",
       "47                                 designed   \n",
       "71                                 designed   \n",
       "73                                 designed   \n",
       "...                                     ...   \n",
       "296819     lr_rand_doubles_plus_single_seed   \n",
       "296855     lr_designed_plus_rand_train_seed   \n",
       "296919  cnn_rand_doubles_plus_single_walked   \n",
       "296956                              singles   \n",
       "296964                              singles   \n",
       "\n",
       "                                mutation_sequence  num_mutations  num_edits  \\\n",
       "5                   AD____________________Pv_____              4          4   \n",
       "13                   ADM__IQV__YSS____DCA_P_YH_TG             17         17   \n",
       "47                 ADTI_V___T____I__C_gAeM___PLIP             16         16   \n",
       "71          A_A__TA__CCS__C__N_dDsEgPpGvDcDmEdDlF             27         26   \n",
       "73                   A_A__T_____S____________V___              5          5   \n",
       "...                                           ...            ...        ...   \n",
       "296819           Yl___________________Dm__s____aN              7          7   \n",
       "296855      Yn_k__d_wF_Nt_D__I_I__H_m_Ig__l_Q___f             18         18   \n",
       "296919  Yv_T__G_n__NC_i__c_Ii_T_cVaLaIQeEv_pTQeEe             28         26   \n",
       "296956              n____________________________              1          1   \n",
       "296964              v____________________________              1          1   \n",
       "\n",
       "        viral_selection  is_viable  \n",
       "5             -1.815227      False  \n",
       "13            -5.116514      False  \n",
       "47            -4.156943      False  \n",
       "71            -5.839737      False  \n",
       "73             1.015606       True  \n",
       "...                 ...        ...  \n",
       "296819        -5.501083      False  \n",
       "296855        -7.129635      False  \n",
       "296919        -4.691514      False  \n",
       "296956        -4.848826      False  \n",
       "296964        -5.185835      False  \n",
       "\n",
       "[10000 rows x 7 columns]"
      ]
     },
     "execution_count": 359,
     "metadata": {},
     "output_type": "execute_result"
    }
   ],
   "source": [
    "df_all_seq = pd.read_csv('allseqs_20191230.csv')\n",
    "num_peps = 10000\n",
    "random_pep_index = sorted(np.random.randint(0,len(df_all_seq),num_peps))\n",
    "df_all_seq = df_all_seq.iloc[random_pep_index,:]\n",
    "df_all_seq.reset_index(drop=True,inplace=True)\n",
    "df_all_seq"
   ]
  },
  {
   "cell_type": "code",
   "execution_count": 360,
   "metadata": {},
   "outputs": [
    {
     "data": {
      "text/plain": [
       "Dataset({\n",
       "    features: ['input_ids', 'attention_mask', 'labels'],\n",
       "    num_rows: 10000\n",
       "})"
      ]
     },
     "execution_count": 360,
     "metadata": {},
     "output_type": "execute_result"
    }
   ],
   "source": [
    "# process and prepare data\n",
    "seq_all,seq_all_labels = process_df(df_all_seq)\n",
    "seq_all_dataset = tokenize_add_label(seq_all,seq_all_labels,tokenizer)\n",
    "# true_seq_all_labels = [x['labels'] for x in seq_all_dataset] # extract true labels from the dataset\n",
    "seq_all_dataset"
   ]
  },
  {
   "cell_type": "code",
   "execution_count": 362,
   "metadata": {},
   "outputs": [
    {
     "name": "stdout",
     "output_type": "stream",
     "text": [
      "currently performing predictions of labels on a dataset of 10000 sequences\n"
     ]
    },
    {
     "data": {
      "application/vnd.jupyter.widget-view+json": {
       "model_id": "893d892f5c9a43a2a11bef38e705637b",
       "version_major": 2,
       "version_minor": 0
      },
      "text/plain": [
       "  0%|          | 0/2000 [00:00<?, ?it/s]"
      ]
     },
     "metadata": {},
     "output_type": "display_data"
    }
   ],
   "source": [
    "true_seq_all_labels , predicted_labels_seq_all, scores_all = trainer_predict(seq_all_dataset,trainer)"
   ]
  },
  {
   "cell_type": "code",
   "execution_count": 379,
   "metadata": {},
   "outputs": [
    {
     "data": {
      "text/html": [
       "<div>\n",
       "<style scoped>\n",
       "    .dataframe tbody tr th:only-of-type {\n",
       "        vertical-align: middle;\n",
       "    }\n",
       "\n",
       "    .dataframe tbody tr th {\n",
       "        vertical-align: top;\n",
       "    }\n",
       "\n",
       "    .dataframe thead th {\n",
       "        text-align: right;\n",
       "    }\n",
       "</style>\n",
       "<table border=\"1\" class=\"dataframe\">\n",
       "  <thead>\n",
       "    <tr style=\"text-align: right;\">\n",
       "      <th></th>\n",
       "      <th>sequence</th>\n",
       "      <th>partition</th>\n",
       "      <th>mutation_sequence</th>\n",
       "      <th>num_mutations</th>\n",
       "      <th>num_edits</th>\n",
       "      <th>viral_selection</th>\n",
       "      <th>is_viable</th>\n",
       "      <th>true_label</th>\n",
       "      <th>predicted_label</th>\n",
       "    </tr>\n",
       "  </thead>\n",
       "  <tbody>\n",
       "    <tr>\n",
       "      <th>0</th>\n",
       "      <td>ADEEIRTTNPVATEQYGSVSTNPvQRGNR</td>\n",
       "      <td>designed</td>\n",
       "      <td>AD____________________Pv_____</td>\n",
       "      <td>4</td>\n",
       "      <td>4</td>\n",
       "      <td>-1.815227</td>\n",
       "      <td>False</td>\n",
       "      <td>0</td>\n",
       "      <td>1</td>\n",
       "    </tr>\n",
       "    <tr>\n",
       "      <th>1</th>\n",
       "      <td>ADMEIIQVNPYSSEQYGDCATPLYHGTG</td>\n",
       "      <td>designed</td>\n",
       "      <td>ADM__IQV__YSS____DCA_P_YH_TG</td>\n",
       "      <td>17</td>\n",
       "      <td>17</td>\n",
       "      <td>-5.116514</td>\n",
       "      <td>False</td>\n",
       "      <td>0</td>\n",
       "      <td>0</td>\n",
       "    </tr>\n",
       "    <tr>\n",
       "      <th>2</th>\n",
       "      <td>ADTIIVTTNTVATEIYGCVgAeMNLQPLIP</td>\n",
       "      <td>designed</td>\n",
       "      <td>ADTI_V___T____I__C_gAeM___PLIP</td>\n",
       "      <td>16</td>\n",
       "      <td>16</td>\n",
       "      <td>-4.156943</td>\n",
       "      <td>False</td>\n",
       "      <td>0</td>\n",
       "      <td>0</td>\n",
       "    </tr>\n",
       "    <tr>\n",
       "      <th>3</th>\n",
       "      <td>AEAEITATNCCSTECYGNVdDsEgPpGvDcDmEdDlF</td>\n",
       "      <td>designed</td>\n",
       "      <td>A_A__TA__CCS__C__N_dDsEgPpGvDcDmEdDlF</td>\n",
       "      <td>27</td>\n",
       "      <td>26</td>\n",
       "      <td>-5.839737</td>\n",
       "      <td>False</td>\n",
       "      <td>0</td>\n",
       "      <td>0</td>\n",
       "    </tr>\n",
       "    <tr>\n",
       "      <th>4</th>\n",
       "      <td>AEAEITTTNPVSTEQYGSVSTNLQVGNR</td>\n",
       "      <td>designed</td>\n",
       "      <td>A_A__T_____S____________V___</td>\n",
       "      <td>5</td>\n",
       "      <td>5</td>\n",
       "      <td>1.015606</td>\n",
       "      <td>True</td>\n",
       "      <td>1</td>\n",
       "      <td>1</td>\n",
       "    </tr>\n",
       "    <tr>\n",
       "      <th>...</th>\n",
       "      <td>...</td>\n",
       "      <td>...</td>\n",
       "      <td>...</td>\n",
       "      <td>...</td>\n",
       "      <td>...</td>\n",
       "      <td>...</td>\n",
       "      <td>...</td>\n",
       "      <td>...</td>\n",
       "      <td>...</td>\n",
       "    </tr>\n",
       "    <tr>\n",
       "      <th>9995</th>\n",
       "      <td>YlEEEIRTTNPVATEQYGSVSDmNLsQRGNaN</td>\n",
       "      <td>lr_rand_doubles_plus_single_seed</td>\n",
       "      <td>Yl___________________Dm__s____aN</td>\n",
       "      <td>7</td>\n",
       "      <td>7</td>\n",
       "      <td>-5.501083</td>\n",
       "      <td>False</td>\n",
       "      <td>0</td>\n",
       "      <td>0</td>\n",
       "    </tr>\n",
       "    <tr>\n",
       "      <th>9996</th>\n",
       "      <td>YnEkEEdIwFTNtNDVAIEIYGHVmSIgNLlQQGNRf</td>\n",
       "      <td>lr_designed_plus_rand_train_seed</td>\n",
       "      <td>Yn_k__d_wF_Nt_D__I_I__H_m_Ig__l_Q___f</td>\n",
       "      <td>18</td>\n",
       "      <td>18</td>\n",
       "      <td>-7.129635</td>\n",
       "      <td>False</td>\n",
       "      <td>0</td>\n",
       "      <td>0</td>\n",
       "    </tr>\n",
       "    <tr>\n",
       "      <th>9997</th>\n",
       "      <td>YvETEIGTnTNNCAiTEcQIiGTVcVaLaIQeEvRpTQeEe</td>\n",
       "      <td>cnn_rand_doubles_plus_single_walked</td>\n",
       "      <td>Yv_T__G_n__NC_i__c_Ii_T_cVaLaIQeEv_pTQeEe</td>\n",
       "      <td>28</td>\n",
       "      <td>26</td>\n",
       "      <td>-4.691514</td>\n",
       "      <td>False</td>\n",
       "      <td>0</td>\n",
       "      <td>0</td>\n",
       "    </tr>\n",
       "    <tr>\n",
       "      <th>9998</th>\n",
       "      <td>nDEEEIRTTNPVATEQYGSVSTNLQRGNR</td>\n",
       "      <td>singles</td>\n",
       "      <td>n____________________________</td>\n",
       "      <td>1</td>\n",
       "      <td>1</td>\n",
       "      <td>-4.848826</td>\n",
       "      <td>False</td>\n",
       "      <td>0</td>\n",
       "      <td>0</td>\n",
       "    </tr>\n",
       "    <tr>\n",
       "      <th>9999</th>\n",
       "      <td>vDEEEIRTTNPVATEQYGSVSTNLQRGNR</td>\n",
       "      <td>singles</td>\n",
       "      <td>v____________________________</td>\n",
       "      <td>1</td>\n",
       "      <td>1</td>\n",
       "      <td>-5.185835</td>\n",
       "      <td>False</td>\n",
       "      <td>0</td>\n",
       "      <td>0</td>\n",
       "    </tr>\n",
       "  </tbody>\n",
       "</table>\n",
       "<p>10000 rows × 9 columns</p>\n",
       "</div>"
      ],
      "text/plain": [
       "                                       sequence  \\\n",
       "0                 ADEEIRTTNPVATEQYGSVSTNPvQRGNR   \n",
       "1                  ADMEIIQVNPYSSEQYGDCATPLYHGTG   \n",
       "2                ADTIIVTTNTVATEIYGCVgAeMNLQPLIP   \n",
       "3         AEAEITATNCCSTECYGNVdDsEgPpGvDcDmEdDlF   \n",
       "4                  AEAEITTTNPVSTEQYGSVSTNLQVGNR   \n",
       "...                                         ...   \n",
       "9995           YlEEEIRTTNPVATEQYGSVSDmNLsQRGNaN   \n",
       "9996      YnEkEEdIwFTNtNDVAIEIYGHVmSIgNLlQQGNRf   \n",
       "9997  YvETEIGTnTNNCAiTEcQIiGTVcVaLaIQeEvRpTQeEe   \n",
       "9998              nDEEEIRTTNPVATEQYGSVSTNLQRGNR   \n",
       "9999              vDEEEIRTTNPVATEQYGSVSTNLQRGNR   \n",
       "\n",
       "                                partition  \\\n",
       "0                                designed   \n",
       "1                                designed   \n",
       "2                                designed   \n",
       "3                                designed   \n",
       "4                                designed   \n",
       "...                                   ...   \n",
       "9995     lr_rand_doubles_plus_single_seed   \n",
       "9996     lr_designed_plus_rand_train_seed   \n",
       "9997  cnn_rand_doubles_plus_single_walked   \n",
       "9998                              singles   \n",
       "9999                              singles   \n",
       "\n",
       "                              mutation_sequence  num_mutations  num_edits  \\\n",
       "0                 AD____________________Pv_____              4          4   \n",
       "1                  ADM__IQV__YSS____DCA_P_YH_TG             17         17   \n",
       "2                ADTI_V___T____I__C_gAeM___PLIP             16         16   \n",
       "3         A_A__TA__CCS__C__N_dDsEgPpGvDcDmEdDlF             27         26   \n",
       "4                  A_A__T_____S____________V___              5          5   \n",
       "...                                         ...            ...        ...   \n",
       "9995           Yl___________________Dm__s____aN              7          7   \n",
       "9996      Yn_k__d_wF_Nt_D__I_I__H_m_Ig__l_Q___f             18         18   \n",
       "9997  Yv_T__G_n__NC_i__c_Ii_T_cVaLaIQeEv_pTQeEe             28         26   \n",
       "9998              n____________________________              1          1   \n",
       "9999              v____________________________              1          1   \n",
       "\n",
       "      viral_selection  is_viable  true_label  predicted_label  \n",
       "0           -1.815227      False           0                1  \n",
       "1           -5.116514      False           0                0  \n",
       "2           -4.156943      False           0                0  \n",
       "3           -5.839737      False           0                0  \n",
       "4            1.015606       True           1                1  \n",
       "...               ...        ...         ...              ...  \n",
       "9995        -5.501083      False           0                0  \n",
       "9996        -7.129635      False           0                0  \n",
       "9997        -4.691514      False           0                0  \n",
       "9998        -4.848826      False           0                0  \n",
       "9999        -5.185835      False           0                0  \n",
       "\n",
       "[10000 rows x 9 columns]"
      ]
     },
     "execution_count": 379,
     "metadata": {},
     "output_type": "execute_result"
    }
   ],
   "source": [
    "#df_all_save = pd.concat([pd.DataFrame(true_seq_all_labels),pd.DataFrame(predicted_labels_seq_all)],axis=1)\n",
    "predicted_labels_df = pd.concat([pd.DataFrame(true_seq_all_labels), pd.DataFrame(predicted_labels_seq_all)], axis=1)\n",
    "predicted_labels_df.columns = ['true_label','predicted_label']\n",
    "df_all_seq.reset_index(drop=True,inplace=True)\n",
    "df_all_save = pd.concat([df_all_seq, predicted_labels_df],axis=1)\n",
    "df_all_save.to_csv('all_seq_10k_true_vs_predicted_labels.csv',index=False)\n",
    "df_all_save"
   ]
  },
  {
   "cell_type": "markdown",
   "metadata": {},
   "source": []
  },
  {
   "cell_type": "code",
   "execution_count": 364,
   "metadata": {},
   "outputs": [
    {
     "data": {
      "text/plain": [
       "<Figure size 640x480 with 0 Axes>"
      ]
     },
     "metadata": {},
     "output_type": "display_data"
    },
    {
     "data": {
      "image/png": "[encoded data removed]",
      "text/plain": [
       "<Figure size 500x500 with 1 Axes>"
      ]
     },
     "metadata": {},
     "output_type": "display_data"
    },
    {
     "data": {
      "text/plain": [
       "<Figure size 640x480 with 0 Axes>"
      ]
     },
     "metadata": {},
     "output_type": "display_data"
    },
    {
     "data": {
      "image/png": "[encoded data removed]",
      "text/plain": [
       "<Figure size 640x480 with 1 Axes>"
      ]
     },
     "metadata": {},
     "output_type": "display_data"
    }
   ],
   "source": [
    "file_save = f\"esm-2_on_clr2_{len(true_seq_all_labels)}_all_seq_data_10k\"\n",
    "create_roc_curve(true_seq_all_labels, predicted_labels_seq_all,scores_all,file_save)\n",
    "plot_precision_recall_curve(true_seq_all_labels, predicted_labels_seq_all,scores_all,file_save)"
   ]
  },
  {
   "cell_type": "markdown",
   "metadata": {},
   "source": [
    "# Save the fine_tuned model and tokenizer"
   ]
  },
  {
   "cell_type": "code",
   "execution_count": null,
   "metadata": {},
   "outputs": [],
   "source": [
    "# model_dir = os.path.join(os.getcwd(),'fine_tuned_esm_aav')\n",
    "# trainer.save_model(model_dir)\n",
    "# alternative method to save a model (fine-tuned)\n",
    "# model.save_pretrained(model_dir)"
   ]
  },
  {
   "cell_type": "markdown",
   "metadata": {},
   "source": [
    "### save the trainer"
   ]
  },
  {
   "cell_type": "code",
   "execution_count": null,
   "metadata": {},
   "outputs": [],
   "source": [
    "trainer_dir = os.path.join(os.getcwd(),'fine_tuned_esm-2_with_clr2_aav_Trainer')\n",
    "trainer.save_model(trainer_dir)"
   ]
  },
  {
   "cell_type": "markdown",
   "metadata": {},
   "source": [
    "### save the trained model"
   ]
  },
  {
   "cell_type": "code",
   "execution_count": null,
   "metadata": {},
   "outputs": [],
   "source": [
    "#model.eval()\n",
    "pretrained_model_name = model_checkpoint.split('/')[1]\n",
    "model_dir = os.path.join(os.getcwd(),f\"{pretrained_model_name}_fine_tuned_with_clr2_aav_data\")\n",
    "print(f\"saving the trained model in the directory: {model_dir}\")\n",
    "model.save_pretrained(model_dir)"
   ]
  },
  {
   "cell_type": "markdown",
   "metadata": {},
   "source": [
    "### save the tokenizer"
   ]
  },
  {
   "cell_type": "code",
   "execution_count": null,
   "metadata": {},
   "outputs": [],
   "source": [
    "tokenizer_dir = os.path.join(os.getcwd(),f\"{pretrained_model_name}_fine_tuned_with_clr2_aav_tokenizer\")\n",
    "print(f\"saving the tokenizer in the directory: {model_dir}\")\n",
    "tokenizer.save_pretrained(model_dir)"
   ]
  },
  {
   "cell_type": "markdown",
   "metadata": {},
   "source": [
    "# Perform predictions using the fine-tuned model (using Huggingface Trainer API)\n"
   ]
  },
  {
   "cell_type": "markdown",
   "metadata": {},
   "source": [
    "Here, loading of a Tokenizer is not needed. But the input sequences must be tokenized before."
   ]
  },
  {
   "cell_type": "markdown",
   "metadata": {},
   "source": [
    "### Initiate Trainer() and perform inference"
   ]
  },
  {
   "cell_type": "code",
   "execution_count": null,
   "metadata": {},
   "outputs": [],
   "source": [
    "pred_arg = TrainingArguments(\n",
    "    output_dir=trainer_dir,\n",
    "    do_train=False,\n",
    "    do_predict=True,\n",
    "    per_device_eval_batch_size=batch_size,\n",
    "    dataloader_drop_last=False)"
   ]
  },
  {
   "cell_type": "code",
   "execution_count": null,
   "metadata": {},
   "outputs": [],
   "source": [
    "# load the model and input the arguments to the Trainer class\n",
    "trainer_model = AutoModelForSequenceClassification.from_pretrained(trainer_dir) # load the fine tuned pre-trained model\n",
    "trainer_model.to(device) # assign to GPU if it exists\n",
    "loaded_trainer = Trainer(model=trainer_model,args=pred_arg,compute_metrics=compute_metrics)"
   ]
  },
  {
   "cell_type": "code",
   "execution_count": null,
   "metadata": {},
   "outputs": [],
   "source": [
    "true_labels, predicted_labels = trainer_predict(test_dataset,loaded_trainer)\n",
    "file_save = f\"esm-2_on_clr2_{len(true_labels)}_test_seq_data\"\n",
    "create_roc_curve(true_labels, predicted_labels,file_save)"
   ]
  },
  {
   "cell_type": "markdown",
   "metadata": {},
   "source": [
    "# Perform predictions using the fine-tuned model (using HuggingFace pipeline API)"
   ]
  },
  {
   "cell_type": "markdown",
   "metadata": {},
   "source": [
    "Here, Tokenizer must be loaded and the input sequences should not be tokenized."
   ]
  },
  {
   "cell_type": "code",
   "execution_count": null,
   "metadata": {},
   "outputs": [],
   "source": [
    "from transformers import pipeline\n",
    "tokenizer = AutoTokenizer.from_pretrained(model_dir) \n",
    "loaded_model = AutoModelForSequenceClassification.from_pretrained(model_dir) # load the fine tuned pre-trained model\n",
    "loaded_model.to(device) # submit it to GPU: device='MPS' for mac , device='CUDA' for NVIDIA\n",
    "clf = pipeline(\"text-classification\",loaded_model,tokenizer=tokenizer,return_all_scores=True,batch_size=batch_size,device=device) # return_all_scores=True if it is binary classification task"
   ]
  },
  {
   "cell_type": "code",
   "execution_count": null,
   "metadata": {},
   "outputs": [],
   "source": [
    "def model_predict(dataset,model):\n",
    "    \"\"\"This function takes a dataset (tokenized sequences and labels) and a trained model (Trainer module from huggingface)\n",
    "    and returns a list of predicted labels\n",
    "    \n",
    "    args:\n",
    "        dataset (str): sequences\n",
    "        model: a fine-tuned model\n",
    "    return:\n",
    "        predicted_labels(int): a list of inferred labels by the Trainer \"\"\"\n",
    "    \n",
    "    print(f\"currently performing predictions of labels on a dataset of {len(dataset)} sequences\")\n",
    "    predicted_results = model.predict(dataset)\n",
    "\n",
    "    scores = [[x[0]['score'],x[1]['score']] for x in predicted_results]\n",
    "    # scores = []\n",
    "    # for x in model_predicted:\n",
    "    #     print(f\"score for label 0: {x[0]['score']}\")\n",
    "    #     print(f\"score for label 1: {x[1]['score']}\")\n",
    "    #     label_0_score = x[0]['score']\n",
    "    #     label_1_score = x[1]['score']\n",
    "    #     scores.append([label_0_score, label_1_score])\n",
    "\n",
    "    predicted_labels = np.argmax(scores,axis=-1).tolist()\n",
    "\n",
    "    \n",
    "    return predicted_labels,scores\n"
   ]
  },
  {
   "cell_type": "code",
   "execution_count": null,
   "metadata": {},
   "outputs": [],
   "source": [
    "predicted_labels_model,scores = model_predict(test_sequences,clf)\n",
    "true_labels = test_labels\n",
    "predicted_labels_model"
   ]
  },
  {
   "cell_type": "code",
   "execution_count": null,
   "metadata": {},
   "outputs": [],
   "source": [
    "file_save = f\"esm-2_on_clr2_{len(true_labels)}_seq_data\"\n",
    "create_roc_curve(true_labels, predicted_labels_model,scores)\n",
    "plot_precision_recall_curve(true_labels, predicted_labels_model,scores)"
   ]
  },
  {
   "cell_type": "code",
   "execution_count": null,
   "metadata": {},
   "outputs": [],
   "source": []
  }
 ],
 "metadata": {
  "kernelspec": {
   "display_name": "py_3_11",
   "language": "python",
   "name": "python3"
  },
  "language_info": {
   "codemirror_mode": {
    "name": "ipython",
    "version": 3
   },
   "file_extension": ".py",
   "mimetype": "text/x-python",
   "name": "python",
   "nbconvert_exporter": "python",
   "pygments_lexer": "ipython3",
   "version": "3.11.0"
  },
  "orig_nbformat": 4
 },
 "nbformat": 4,
 "nbformat_minor": 2
}
